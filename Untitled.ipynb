{
 "cells": [
  {
   "cell_type": "code",
   "execution_count": 29,
   "metadata": {},
   "outputs": [
    {
     "name": "stdout",
     "output_type": "stream",
     "text": [
      "The autoreload extension is already loaded. To reload it, use:\n",
      "  %reload_ext autoreload\n"
     ]
    },
    {
     "data": {
      "text/html": [
       "<script>\n",
       "    code_show=false;\n",
       "    function code_toggle() {\n",
       "     if (code_show){\n",
       "     $('div.input').hide();\n",
       "     } else {\n",
       "     $('div.input').show();\n",
       "     }\n",
       "     code_show = !code_show\n",
       "    }\n",
       "    $( document ).ready(code_toggle);\n",
       "    </script>\n",
       "    <form action=\"javascript:code_toggle()\"><input type=\"submit\" value=\"Click here to toggle on/off the raw code.\"></form>"
      ],
      "text/plain": [
       "<IPython.core.display.HTML object>"
      ]
     },
     "metadata": {},
     "output_type": "display_data"
    },
    {
     "data": {
      "text/html": [
       "<script type='text/javascript'>function generate_toc_content(){var all_headers=$(\"#notebook\").find(\":header\");var toc=\"\";var level=0;var min_level=3;all_headers.each(function(i,h){var openLevel=parseInt(h.tagName.slice(1),10);if(openLevel>min_level){return;}\n",
       "var titleText=$(h).clone().children().remove().end().text();if(openLevel>level){toc+=(new Array(openLevel-level+1)).join(\"<ol class='toc-item unstyle'>\");}else if(openLevel<level){toc+=(new Array(level-openLevel+1)).join('</li></ol>');}else{toc+=(new Array(level+1)).join('</li>');}\n",
       "level=parseInt(openLevel);var anchor=$(h).attr('id');toc+='<li><a href=\"#'+anchor+'\">'+titleText\n",
       "+'</a>';});if(level){toc+=(new Array(level+1)).join('</ol>');}\n",
       "return toc}\n",
       "function show_list_number(){$(\"#toc ol\").toggleClass('unstyle');$(\"#toc ol\").toggleClass('nested');$(\"#toc li\").toggleClass('nested');};var create_toc_div=function(){var toc_wrapper=$('<div id=\"toc-wrapper\"/>').append($(\"<div/>\",{class:'header',text:'Contents '}).append($(\"<a/>\",{id:'toc-reload-btn',href:'#',title:'Reload ToC',text:\"  \\u21BB\"}).click(function(){create_toc();return false;})).append($(\"<a/>\",{id:'display-heading-number-btn',href:'#',title:'Number text sections',text:'#'}).click(function(){show_list_number();}))).append($(\"<div/>\",{id:\"toc\"}));$('<div/>',{class:'col-md-2',id:'toc-column'}).append(toc_wrapper).insertBefore('#notebook-container');};var toggle_toc=function(){$(\"#toc-column\").toggle({duration:0,complete:function(){$('#notebook-container').toggleClass(\"col-md-9\").toggleClass(\"col-md-10 col-md-offset-1\");}});};var init_toc_container=function(){if($(\"#toc_button\").length===0){if(typeof IPython!=\"undefined\"){IPython.toolbar.add_buttons_group([{'label':'Table of Contents','icon':'fa-list','callback':toggle_toc,'id':'toc_button'}]);}}\n",
       "create_toc_div();$('#notebook').addClass('row');$('#notebook-container').addClass('col-md-9').removeClass('container');};var create_toc=function(){var ToC=generate_toc_content();$(\"#toc\").empty().append(ToC);};$(document).ready(function(){if(!$('#notebook').hasClass('row')){init_toc_container()}\n",
       "if(typeof IPython!=\"undefined\"){$([IPython.events]).on(\"rendered.MarkdownCell\",function(){create_toc();});}\n",
       "create_toc();});</script><style media='screen' type='text/css'>#toc {    height: 100%;}#toc > .toc-item {    padding: 0;    margin:  0;}#toc .toc-item .toc-item{  padding-left: 10px;}.toc-item.unstyle {    list-style-type: none;}ol.nested{    counter-reset: item}li.nested{    display: block}li.nested:before{    content: counters(item, \".\") \". \";    counter-increment: item}#ipython-main-app #toc-wrapper{    height: 85%;}#toc-wrapper {    height: 95%;    padding: 10px;    position: fixed;    max-width: 200px;    background-color: #fff;    opacity: .8;    overflow: scroll;}#toc-wrapper.closed {  min-width: 100px;  width: auto;  height:auto;  /*transition: width;*/}#toc-wrapper:hover{  opacity: 1;}#toc-wrapper .header {  font-size: 18px;  font-weight: bold;}#toc-wrapper .hide-btn {  font-size: 14px;  font-family: monospace;}#toc-reload-btn, #display-heading-number-btn {    font-size: 14px;    font-family: monospace;    margin-right: 10px;}.nav .active a {  color: black; }</style>"
      ],
      "text/plain": [
       "<IPython.core.display.HTML object>"
      ]
     },
     "metadata": {},
     "output_type": "display_data"
    }
   ],
   "source": [
    "%matplotlib inline\n",
    "%load_ext autoreload\n",
    "%autoreload 2\n",
    "\n",
    "from import_file import  *\n",
    "load_libs()"
   ]
  },
  {
   "cell_type": "code",
   "execution_count": 16,
   "metadata": {},
   "outputs": [
    {
     "data": {
      "text/html": [
       "<div>\n",
       "<style>\n",
       "    .dataframe thead tr:only-child th {\n",
       "        text-align: right;\n",
       "    }\n",
       "\n",
       "    .dataframe thead th {\n",
       "        text-align: left;\n",
       "    }\n",
       "\n",
       "    .dataframe tbody tr th {\n",
       "        vertical-align: top;\n",
       "    }\n",
       "</style>\n",
       "<table border=\"1\" class=\"dataframe\">\n",
       "  <thead>\n",
       "    <tr style=\"text-align: right;\">\n",
       "      <th></th>\n",
       "      <th>open</th>\n",
       "      <th>high</th>\n",
       "      <th>low</th>\n",
       "      <th>close</th>\n",
       "      <th>openInt</th>\n",
       "      <th>volume</th>\n",
       "      <th>comment</th>\n",
       "    </tr>\n",
       "    <tr>\n",
       "      <th>datetime</th>\n",
       "      <th></th>\n",
       "      <th></th>\n",
       "      <th></th>\n",
       "      <th></th>\n",
       "      <th></th>\n",
       "      <th></th>\n",
       "      <th></th>\n",
       "    </tr>\n",
       "  </thead>\n",
       "  <tbody>\n",
       "    <tr>\n",
       "      <th>2013-08-19</th>\n",
       "      <td>1581.0</td>\n",
       "      <td>1626.0</td>\n",
       "      <td>1575.0</td>\n",
       "      <td>1598.0</td>\n",
       "      <td>265954</td>\n",
       "      <td>1422828</td>\n",
       "      <td>1153998848</td>\n",
       "    </tr>\n",
       "    <tr>\n",
       "      <th>2013-08-20</th>\n",
       "      <td>1594.0</td>\n",
       "      <td>1613.0</td>\n",
       "      <td>1590.0</td>\n",
       "      <td>1602.0</td>\n",
       "      <td>250156</td>\n",
       "      <td>1235194</td>\n",
       "      <td>1153966080</td>\n",
       "    </tr>\n",
       "    <tr>\n",
       "      <th>2013-08-21</th>\n",
       "      <td>1605.0</td>\n",
       "      <td>1613.0</td>\n",
       "      <td>1599.0</td>\n",
       "      <td>1607.0</td>\n",
       "      <td>244908</td>\n",
       "      <td>841072</td>\n",
       "      <td>1153998848</td>\n",
       "    </tr>\n",
       "    <tr>\n",
       "      <th>2013-08-22</th>\n",
       "      <td>1603.0</td>\n",
       "      <td>1619.0</td>\n",
       "      <td>1596.0</td>\n",
       "      <td>1606.0</td>\n",
       "      <td>250436</td>\n",
       "      <td>1008156</td>\n",
       "      <td>1154007040</td>\n",
       "    </tr>\n",
       "    <tr>\n",
       "      <th>2013-08-23</th>\n",
       "      <td>1608.0</td>\n",
       "      <td>1645.0</td>\n",
       "      <td>1607.0</td>\n",
       "      <td>1640.0</td>\n",
       "      <td>267560</td>\n",
       "      <td>1274666</td>\n",
       "      <td>1154203648</td>\n",
       "    </tr>\n",
       "  </tbody>\n",
       "</table>\n",
       "</div>"
      ],
      "text/plain": [
       "              open    high     low   close  openInt   volume     comment\n",
       "datetime                                                                \n",
       "2013-08-19  1581.0  1626.0  1575.0  1598.0   265954  1422828  1153998848\n",
       "2013-08-20  1594.0  1613.0  1590.0  1602.0   250156  1235194  1153966080\n",
       "2013-08-21  1605.0  1613.0  1599.0  1607.0   244908   841072  1153998848\n",
       "2013-08-22  1603.0  1619.0  1596.0  1606.0   250436  1008156  1154007040\n",
       "2013-08-23  1608.0  1645.0  1607.0  1640.0   267560  1274666  1154203648"
      ]
     },
     "execution_count": 16,
     "metadata": {},
     "output_type": "execute_result"
    },
    {
     "data": {
      "text/html": [
       "<div>\n",
       "<style>\n",
       "    .dataframe thead tr:only-child th {\n",
       "        text-align: right;\n",
       "    }\n",
       "\n",
       "    .dataframe thead th {\n",
       "        text-align: left;\n",
       "    }\n",
       "\n",
       "    .dataframe tbody tr th {\n",
       "        vertical-align: top;\n",
       "    }\n",
       "</style>\n",
       "<table border=\"1\" class=\"dataframe\">\n",
       "  <thead>\n",
       "    <tr style=\"text-align: right;\">\n",
       "      <th></th>\n",
       "      <th>open</th>\n",
       "      <th>high</th>\n",
       "      <th>low</th>\n",
       "      <th>close</th>\n",
       "      <th>openInt</th>\n",
       "      <th>volume</th>\n",
       "      <th>comment</th>\n",
       "    </tr>\n",
       "    <tr>\n",
       "      <th>datetime</th>\n",
       "      <th></th>\n",
       "      <th></th>\n",
       "      <th></th>\n",
       "      <th></th>\n",
       "      <th></th>\n",
       "      <th></th>\n",
       "      <th></th>\n",
       "    </tr>\n",
       "  </thead>\n",
       "  <tbody>\n",
       "    <tr>\n",
       "      <th>2017-09-19</th>\n",
       "      <td>2188.0</td>\n",
       "      <td>2228.0</td>\n",
       "      <td>2174.0</td>\n",
       "      <td>2177.0</td>\n",
       "      <td>269970</td>\n",
       "      <td>345808</td>\n",
       "      <td>1158232064</td>\n",
       "    </tr>\n",
       "    <tr>\n",
       "      <th>2017-09-20</th>\n",
       "      <td>2175.0</td>\n",
       "      <td>2210.0</td>\n",
       "      <td>2110.0</td>\n",
       "      <td>2197.0</td>\n",
       "      <td>290234</td>\n",
       "      <td>543772</td>\n",
       "      <td>1158082560</td>\n",
       "    </tr>\n",
       "    <tr>\n",
       "      <th>2017-09-21</th>\n",
       "      <td>2199.5</td>\n",
       "      <td>2216.0</td>\n",
       "      <td>2085.0</td>\n",
       "      <td>2086.0</td>\n",
       "      <td>293604</td>\n",
       "      <td>533580</td>\n",
       "      <td>1158037504</td>\n",
       "    </tr>\n",
       "    <tr>\n",
       "      <th>2017-09-22</th>\n",
       "      <td>2085.0</td>\n",
       "      <td>2094.5</td>\n",
       "      <td>2026.0</td>\n",
       "      <td>2032.0</td>\n",
       "      <td>284146</td>\n",
       "      <td>406738</td>\n",
       "      <td>1157687296</td>\n",
       "    </tr>\n",
       "    <tr>\n",
       "      <th>2017-09-25</th>\n",
       "      <td>2040.0</td>\n",
       "      <td>2064.0</td>\n",
       "      <td>1956.0</td>\n",
       "      <td>2012.5</td>\n",
       "      <td>297574</td>\n",
       "      <td>599836</td>\n",
       "      <td>1157300224</td>\n",
       "    </tr>\n",
       "  </tbody>\n",
       "</table>\n",
       "</div>"
      ],
      "text/plain": [
       "              open    high     low   close  openInt  volume     comment\n",
       "datetime                                                               \n",
       "2017-09-19  2188.0  2228.0  2174.0  2177.0   269970  345808  1158232064\n",
       "2017-09-20  2175.0  2210.0  2110.0  2197.0   290234  543772  1158082560\n",
       "2017-09-21  2199.5  2216.0  2085.0  2086.0   293604  533580  1158037504\n",
       "2017-09-22  2085.0  2094.5  2026.0  2032.0   284146  406738  1157687296\n",
       "2017-09-25  2040.0  2064.0  1956.0  2012.5   297574  599836  1157300224"
      ]
     },
     "execution_count": 16,
     "metadata": {},
     "output_type": "execute_result"
    }
   ],
   "source": [
    "instrument = Instrument()\n",
    "code = 'jl8'\n",
    "df = instrument.bar(code, asset='future')\n",
    "df.head()\n",
    "df.tail()"
   ]
  },
  {
   "cell_type": "code",
   "execution_count": 30,
   "metadata": {},
   "outputs": [],
   "source": [
    "chart = Highstock()\n",
    "options = {\n",
    "        'rangeSelector': {\n",
    "            'selected': 1,\n",
    "            'inputDateFormat': '%Y-%m-%d'\n",
    "        },\n",
    "        'title': {\n",
    "            'text': code\n",
    "        },\n",
    "        'xAxis': {\n",
    "            'dateTimeLabelFormats': {\n",
    "                'millisecond': '%H:%M:%S.%L',\n",
    "                'second': '%H:%M:%S',\n",
    "                'minute': '%H:%M',\n",
    "                'hour': '%H:%M',\n",
    "                'day': '%m-%d',\n",
    "                'week': '%m-%d',\n",
    "                'month': '%y-%m',\n",
    "                'year': '%Y'\n",
    "            }\n",
    "        },\n",
    "        'yAxis': [{\n",
    "            'labels': {\n",
    "                'align': 'right',\n",
    "                'x': -3\n",
    "            },\n",
    "            'title': {\n",
    "                'text': '股价'\n",
    "            },\n",
    "            'height': '60%',\n",
    "            'lineWidth': 2\n",
    "        }, {\n",
    "            'labels': {\n",
    "                'align': 'right',\n",
    "                'x': -3\n",
    "            },\n",
    "            'title': {\n",
    "                'text': '成交量'\n",
    "            },\n",
    "            'top': '65%',\n",
    "            'height': '35%',\n",
    "            'offset': 0,\n",
    "            'lineWidth': 2\n",
    "        }],\n",
    "}\n",
    "\n",
    "chart.set_dict_options(options)"
   ]
  },
  {
   "cell_type": "code",
   "execution_count": null,
   "metadata": {
    "collapsed": true
   },
   "outputs": [],
   "source": [
    "chart.add_data_set"
   ]
  },
  {
   "cell_type": "code",
   "execution_count": 9,
   "metadata": {},
   "outputs": [
    {
     "data": {
      "text/plain": [
       "(array([32], dtype=int64), array([ 1.6]), array([ 0.9995736]))"
      ]
     },
     "execution_count": 9,
     "metadata": {},
     "output_type": "execute_result"
    }
   ],
   "source": [
    "from scipy import signal\n",
    "xs = np.arange(0, np.pi, 0.05)\n",
    "data = np.sin(xs)\n",
    "peakind = signal.find_peaks_cwt(data, np.arange(1,10))\n",
    "peakind, xs[peakind], data[peakind]"
   ]
  },
  {
   "cell_type": "code",
   "execution_count": 28,
   "metadata": {},
   "outputs": [
    {
     "data": {
      "text/html": [
       "<iframe style=\"border:0;outline:none;overflow:hidden\" srcdoc=\"&lt;!DOCTYPE html&gt; &lt;html lang=&quot;en&quot;&gt; &lt;head&gt; &lt;meta charset=&quot;utf-8&quot; /&gt; &lt;link href=&quot;https://www.highcharts.com/highslide/highslide.css&quot; rel=&quot;stylesheet&quot; /&gt; &lt;script type=&quot;text/javascript&quot; src=&quot;https://ajax.googleapis.com/ajax/libs/jquery/1.9.1/jquery.min.js&quot;&gt;&lt;/script&gt; &lt;script type=&quot;text/javascript&quot; src=&quot;https://code.highcharts.com/stock/highstock.js&quot;&gt;&lt;/script&gt; &lt;script type=&quot;text/javascript&quot; src=&quot;https://code.highcharts.com/stock/modules/exporting.js&quot;&gt;&lt;/script&gt; &lt;script type=&quot;text/javascript&quot; src=&quot;https://code.highcharts.com/highcharts-more.js&quot;&gt;&lt;/script&gt; &lt;/head&gt; &lt;body style=&quot;margin:0;padding:0&quot;&gt; &lt;div id=&quot;container&quot; style=&quot;&quot;&gt;Loading....&lt;/div&gt; &lt;script&gt; $(function(){ $.getJSON(&quot;http://www.highcharts.com/samples/data/jsonp.php?filename=aapl-c.json&amp;callback=?&quot;, function (json_data) { Highcharts.setOptions({&quot;global&quot;: {}, &quot;lang&quot;: {}}); var option = {&quot;chart&quot;: {&quot;renderTo&quot;: &quot;container&quot;}, &quot;colors&quot;: {}, &quot;credits&quot;: {&quot;enabled&quot;: false}, &quot;exporting&quot;: {}, &quot;labels&quot;: {}, &quot;legend&quot;: {}, &quot;loading&quot;: {}, &quot;navigation&quot;: {}, &quot;navigator&quot;: {}, &quot;plotOptions&quot;: {}, &quot;rangeSelector&quot;: {&quot;selected&quot;: 1}, &quot;scrollbar&quot;: {}, &quot;series&quot;: {}, &quot;subtitle&quot;: {}, &quot;title&quot;: {&quot;text&quot;: &quot;AAPL Stock Price&quot;}, &quot;tooltip&quot;: {}, &quot;xAxis&quot;: {}, &quot;yAxis&quot;: {}}; var data = [{&quot;data&quot;: json_data, &quot;type&quot;: &quot;line&quot;, &quot;name&quot;: &quot;AAPL&quot;, &quot;tooltip&quot;: {&quot;valueDecimals&quot;: 2}}]; option.series = data; var chart = new Highcharts.StockChart(option); }); }); &lt;/script&gt; &lt;/body&gt; &lt;/html&gt;\" height=520 width=820></iframe>"
      ],
      "text/plain": [
       "<highcharts.highstock.highstock.Highstock at 0xafeff98>"
      ]
     },
     "execution_count": 28,
     "metadata": {},
     "output_type": "execute_result"
    }
   ],
   "source": [
    "from highcharts import Highstock\n",
    "from highcharts.highstock.highstock_helper import jsonp_loader\n",
    "H = Highstock()\n",
    "\n",
    "data_url = 'http://www.highcharts.com/samples/data/jsonp.php?filename=aapl-c.json&callback=?'\n",
    "H.add_data_from_jsonp(data_url, 'json_data', 'line', 'AAPL', tooltip = {\n",
    "    'valueDecimals': 2\n",
    "    }\n",
    ")\n",
    "\n",
    "options = {\n",
    "    'rangeSelector' : {\n",
    "            'selected' : 1\n",
    "        },\n",
    "\n",
    "    'title' : {\n",
    "        'text' : 'AAPL Stock Price'\n",
    "    },\n",
    "}\n",
    "H.set_dict_options(options)\n",
    "\n",
    "H"
   ]
  }
 ],
 "metadata": {
  "kernelspec": {
   "display_name": "Python 3",
   "language": "python",
   "name": "python3"
  },
  "language_info": {
   "codemirror_mode": {
    "name": "ipython",
    "version": 3
   },
   "file_extension": ".py",
   "mimetype": "text/x-python",
   "name": "python",
   "nbconvert_exporter": "python",
   "pygments_lexer": "ipython3",
   "version": "3.6.1"
  }
 },
 "nbformat": 4,
 "nbformat_minor": 2
}
